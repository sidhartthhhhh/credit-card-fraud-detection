{
 "cells": [
  {
   "cell_type": "code",
   "execution_count": null,
   "id": "4954c50c",
   "metadata": {
    "vscode": {
     "languageId": "plaintext"
    }
   },
   "outputs": [],
   "source": [
    "import pandas as pd\n",
    "import numpy as np\n",
    "import matplotlib.pyplot as plt\n",
    "import seaborn as sns\n",
    "from sklearn.model_selection import train_test_split\n",
    "from sklearn.preprocessing import RobustScaler\n",
    "from imblearn.over_sampling import SMOTE\n",
    "from sklearn.linear_model import LogisticRegression\n",
    "from lightgbm import LGBMClassifier\n",
    "from sklearn.metrics import classification_report, confusion_matrix, average_precision_score\n",
    "import shap\n",
    "import joblib"
   ]
  },
  {
   "cell_type": "code",
   "execution_count": null,
   "id": "eec55636",
   "metadata": {
    "vscode": {
     "languageId": "plaintext"
    }
   },
   "outputs": [],
   "source": [
    "df = pd.read_csv('../data/creditcard.csv')\n",
    "print(df.head())\n",
    "print(\"\\nClass Distribution:\")\n",
    "print(df['Class'].value_counts())\n",
    "\n",
    "# Plot class distribution\n",
    "sns.countplot(x='Class', data=df)\n",
    "plt.title('Class Distribution (0: No Fraud, 1: Fraud)')\n",
    "plt.show()"
   ]
  },
  {
   "cell_type": "code",
   "execution_count": null,
   "id": "d81b19a7",
   "metadata": {
    "vscode": {
     "languageId": "plaintext"
    }
   },
   "outputs": [],
   "source": [
    "# Scale Amount and create hour_of_day feature\n",
    "scaler = RobustScaler()\n",
    "df['scaled_amount'] = scaler.fit_transform(df['Amount'].values.reshape(-1,1))\n",
    "df['hour_of_day'] = (df['Time'] // 3600) % 24\n",
    "\n",
    "# Drop original Time and Amount columns\n",
    "df.drop(['Time','Amount'], axis=1, inplace=True)\n",
    "\n",
    "# Reorder columns\n",
    "scaled_amount = df['scaled_amount']\n",
    "hour_of_day = df['hour_of_day']\n",
    "df.drop(['scaled_amount', 'hour_of_day'], axis=1, inplace=True)\n",
    "df.insert(0, 'hour_of_day', hour_of_day)\n",
    "df.insert(0, 'scaled_amount', scaled_amount)"
   ]
  },
  {
   "cell_type": "code",
   "execution_count": null,
   "id": "2c83d01e",
   "metadata": {
    "vscode": {
     "languageId": "plaintext"
    }
   },
   "outputs": [],
   "source": [
    "X = df.drop('Class', axis=1)\n",
    "y = df['Class']\n",
    "\n",
    "# Split data BEFORE applying SMOTE to avoid data leakage\n",
    "X_train, X_test, y_train, y_test = train_test_split(X, y, test_size=0.2, random_state=42, stratify=y)"
   ]
  },
  {
   "cell_type": "code",
   "execution_count": null,
   "id": "8a00f275",
   "metadata": {
    "vscode": {
     "languageId": "plaintext"
    }
   },
   "outputs": [],
   "source": [
    "print(\"Before OverSampling, counts of label '1': {}\".format(sum(y_train == 1)))\n",
    "print(\"Before OverSampling, counts of label '0': {} \\n\".format(sum(y_train == 0)))\n",
    "smote = SMOTE(random_state=42)\n",
    "X_train_res, y_train_res = smote.fit_resample(X_train, y_train)\n",
    "\n",
    "print('After OverSampling, the shape of train_X: {}'.format(X_train_res.shape))\n",
    "print(\"After OverSampling, counts of label '1': {}\".format(sum(y_train_res == 1)))\n",
    "print(\"After OverSampling, counts of label '0': {}\".format(sum(y_train_res == 0)))"
   ]
  },
  {
   "cell_type": "code",
   "execution_count": null,
   "id": "e1b81b87",
   "metadata": {
    "vscode": {
     "languageId": "plaintext"
    }
   },
   "outputs": [],
   "source": [
    "lgbm = LGBMClassifier(objective='binary', metric='auc', n_estimators=1000, random_state=42)\n",
    "lgbm.fit(X_train_res, y_train_res)\n",
    "lgbm_preds = lgbm.predict(X_test)\n",
    "lgbm_proba = lgbm.predict_proba(X_test)[:, 1]\n",
    "\n",
    "print(\"--- LightGBM Evaluation ---\")\n",
    "print(classification_report(y_test, lgbm_preds))\n",
    "print(f\"AUC-PR: {average_precision_score(y_test, lgbm_proba):.4f}\")"
   ]
  },
  {
   "cell_type": "code",
   "execution_count": null,
   "id": "7156320a",
   "metadata": {
    "vscode": {
     "languageId": "plaintext"
    }
   },
   "outputs": [],
   "source": [
    "cm = confusion_matrix(y_test, lgbm_preds)\n",
    "sns.heatmap(cm, annot=True, fmt='d', cmap='Blues', xticklabels=['No Fraud', 'Fraud'], yticklabels=['No Fraud', 'Fraud'])\n",
    "plt.title('LightGBM Confusion Matrix')\n",
    "plt.ylabel('Actual')\n",
    "plt.xlabel('Predicted')\n",
    "plt.show()"
   ]
  },
  {
   "cell_type": "code",
   "execution_count": null,
   "id": "df4b4757",
   "metadata": {
    "vscode": {
     "languageId": "plaintext"
    }
   },
   "outputs": [],
   "source": [
    "explainer = shap.TreeExplainer(lgbm)\n",
    "shap_values = explainer.shap_values(X_test)\n",
    "\n",
    "shap.summary_plot(shap_values[1], X_test, plot_type=\"bar\", show=True, plot_size=(10,8))"
   ]
  },
  {
   "cell_type": "code",
   "execution_count": null,
   "id": "f888b619",
   "metadata": {
    "vscode": {
     "languageId": "plaintext"
    }
   },
   "outputs": [],
   "source": []
  }
 ],
 "metadata": {
  "language_info": {
   "name": "python"
  }
 },
 "nbformat": 4,
 "nbformat_minor": 5
}
